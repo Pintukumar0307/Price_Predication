{
 "cells": [
  {
   "cell_type": "code",
   "execution_count": 1,
   "id": "b8e5e0ac",
   "metadata": {},
   "outputs": [],
   "source": [
    "import pandas as pd\n",
    "import numpy as np\n",
    "import matplotlib.pyplot as plt\n",
    "import seaborn as sns\n",
    "from sklearn.preprocessing import LabelEncoder, StandardScaler\n",
    "from sklearn.model_selection import train_test_split, GridSearchCV\n",
    "from xgboost import XGBRegressor\n",
    "from sklearn.metrics import mean_squared_error, mean_absolute_error, r2_score\n",
    "from sklearn.impute import SimpleImputer\n"
   ]
  },
  {
   "cell_type": "code",
   "execution_count": 2,
   "id": "53dfbdc1",
   "metadata": {},
   "outputs": [],
   "source": [
    "# Load the dataset into a Pandas dataframe\n",
    "df = pd.read_csv('./price_predication.csv')\n",
    "\n"
   ]
  },
  {
   "cell_type": "code",
   "execution_count": 3,
   "id": "ace16b99",
   "metadata": {},
   "outputs": [],
   "source": [
    "# Encode categorical features\n",
    "le_district = LabelEncoder()\n",
    "df['District'] = le_district.fit_transform(df['District'])\n",
    "le_crop = LabelEncoder()\n",
    "df['Crop'] = le_crop.fit_transform(df['Crop'])\n"
   ]
  },
  {
   "cell_type": "code",
   "execution_count": 4,
   "id": "39288c72",
   "metadata": {},
   "outputs": [],
   "source": [
    "df['Price Date'] = pd.to_datetime(df['Price Date'], format='%b-%Y')\n",
    "\n",
    "\n",
    "# Extract month and year from 'Price Date' column\n",
    "df['Month'] = df['Price Date'].dt.month\n",
    "df['Year'] = df['Price Date'].dt.year\n",
    "\n",
    "\n",
    "\n",
    "# Drop the 'Price Date' column\n",
    "df = df.drop('Price Date', axis=1)\n",
    "\n",
    "# Split the dataset into training and testing sets\n",
    "X_train, X_test, y_train, y_test = train_test_split(df[['District', 'Crop', 'Month', 'Year']], df['Crop Price (Rs per quintal)'], test_size=0.4, random_state=42)\n"
   ]
  },
  {
   "cell_type": "code",
   "execution_count": 5,
   "id": "34a96cb0",
   "metadata": {},
   "outputs": [],
   "source": [
    "# Handle missing values\n",
    "imputer = SimpleImputer()\n",
    "X_train = imputer.fit_transform(X_train)\n",
    "X_test = imputer.transform(X_test)\n",
    "\n",
    "# Feature scaling\n",
    "scaler = StandardScaler()\n",
    "X_train = scaler.fit_transform(X_train)\n",
    "X_test = scaler.transform(X_test)\n",
    "\n"
   ]
  },
  {
   "cell_type": "code",
   "execution_count": 6,
   "id": "f8812302",
   "metadata": {},
   "outputs": [],
   "source": [
    "xgb = XGBRegressor(n_estimators=400, max_depth=12, random_state=42)\n",
    "xgb.fit(X_train, y_train)\n",
    "\n",
    "# Make predictions on the testing set\n",
    "y_pred = xgb.predict(X_test)"
   ]
  },
  {
   "cell_type": "code",
   "execution_count": 7,
   "id": "f923be9c",
   "metadata": {},
   "outputs": [
    {
     "name": "stdout",
     "output_type": "stream",
     "text": [
      "Mean Squared Error : 5568.18\n",
      "Root Mean Squared Error : 74.62\n",
      "Mean Absolute Error : 61.06\n",
      "R-squared : 1.00\n"
     ]
    }
   ],
   "source": [
    "# Calculate evaluation metrics\n",
    "mse = mean_squared_error(y_test, y_pred)\n",
    "rmse = np.sqrt(mse)\n",
    "mae = mean_absolute_error(y_test, y_pred)\n",
    "r2 = r2_score(y_test, y_pred)\n",
    "\n",
    "# Print the evaluation metrics\n",
    "print(\"Mean Squared Error : {:.2f}\".format(mse))\n",
    "print(\"Root Mean Squared Error : {:.2f}\".format(rmse))\n",
    "print(\"Mean Absolute Error : {:.2f}\".format(mae))\n",
    "print(\"R-squared : {:.2f}\".format(r2)) \n"
   ]
  },
  {
   "cell_type": "code",
   "execution_count": null,
   "id": "c298eeb6",
   "metadata": {},
   "outputs": [],
   "source": []
  },
  {
   "cell_type": "code",
   "execution_count": null,
   "id": "2c1cccb3",
   "metadata": {},
   "outputs": [],
   "source": []
  }
 ],
 "metadata": {
  "kernelspec": {
   "display_name": "Python 3 (ipykernel)",
   "language": "python",
   "name": "python3"
  },
  "language_info": {
   "codemirror_mode": {
    "name": "ipython",
    "version": 3
   },
   "file_extension": ".py",
   "mimetype": "text/x-python",
   "name": "python",
   "nbconvert_exporter": "python",
   "pygments_lexer": "ipython3",
   "version": "3.10.7"
  }
 },
 "nbformat": 4,
 "nbformat_minor": 5
}
