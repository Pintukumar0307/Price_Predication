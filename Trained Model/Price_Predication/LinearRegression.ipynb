{
 "cells": [
  {
   "cell_type": "code",
   "execution_count": 1,
   "id": "96618132",
   "metadata": {},
   "outputs": [],
   "source": [
    "import pandas as pd\n",
    "import numpy as np\n",
    "from sklearn.preprocessing import LabelEncoder, StandardScaler\n",
    "from sklearn.model_selection import train_test_split\n",
    "from sklearn.linear_model import LinearRegression\n",
    "from sklearn.metrics import mean_squared_error, mean_absolute_error, r2_score\n",
    "from sklearn.impute import SimpleImputer"
   ]
  },
  {
   "cell_type": "code",
   "execution_count": 2,
   "id": "da5bdb31",
   "metadata": {},
   "outputs": [],
   "source": [
    "# dataset load\n",
    "df = pd.read_csv('./Price_Predication.csv')\n"
   ]
  },
  {
   "cell_type": "code",
   "execution_count": 3,
   "id": "870ecc9c",
   "metadata": {},
   "outputs": [],
   "source": [
    "# Encode district and crop\n",
    "le_district = LabelEncoder()\n",
    "df['District'] = le_district.fit_transform(df['District'])\n",
    "le_crop = LabelEncoder()\n",
    "df['Crop'] = le_crop.fit_transform(df['Crop'])"
   ]
  },
  {
   "cell_type": "code",
   "execution_count": 4,
   "id": "e153c7f1",
   "metadata": {},
   "outputs": [],
   "source": [
    "# format change\n",
    "df['Price Date'] = pd.to_datetime(df['Price Date'], format='%b-%Y')\n",
    "\n",
    "\n",
    "# Extract month and year from 'Price Date' column\n",
    "\n",
    "df['Month'] = df['Price Date'].dt.month\n",
    "df['Year'] = df['Price Date'].dt.year\n",
    "\n",
    "# # Drop 'Price Date' column\n",
    "df = df.drop('Price Date', axis=1)\n",
    "\n",
    "\n",
    "# Split the dataset into training and testing sets\n",
    "X_train, X_test, y_train, y_test = train_test_split(df[['District', 'Crop', 'Month', 'Year']], df['Crop Price (Rs per quintal)'], test_size=0.2, random_state=42)\n"
   ]
  },
  {
   "cell_type": "code",
   "execution_count": 5,
   "id": "81d0af81",
   "metadata": {},
   "outputs": [],
   "source": [
    "# Handle missing values\n",
    "imputer = SimpleImputer()\n",
    "X_train = imputer.fit_transform(X_train)\n",
    "X_test = imputer.transform(X_test)"
   ]
  },
  {
   "cell_type": "code",
   "execution_count": 6,
   "id": "80f4866a",
   "metadata": {},
   "outputs": [],
   "source": [
    "# Feature scaling\n",
    "scaler = StandardScaler()\n",
    "X_train = scaler.fit_transform(X_train)\n",
    "X_test = scaler.transform(X_test)"
   ]
  },
  {
   "cell_type": "code",
   "execution_count": 7,
   "id": "3e965afd",
   "metadata": {},
   "outputs": [],
   "source": [
    "# Create a linear regression model\n",
    "linear_reg = LinearRegression()\n",
    "\n",
    "# Train the linear regression model on the training set\n",
    "linear_reg.fit(X_train, y_train)\n",
    "\n",
    "# Make predictions on the testing set\n",
    "y_pred = linear_reg.predict(X_test)"
   ]
  },
  {
   "cell_type": "code",
   "execution_count": 8,
   "id": "56cc08ca",
   "metadata": {},
   "outputs": [
    {
     "name": "stdout",
     "output_type": "stream",
     "text": [
      "Mean Squared Error : 16844968.71\n",
      "Root Mean Squared Error : 4104.26\n",
      "Mean Absolute Error : 2913.80\n",
      "R-squared : 0.22\n"
     ]
    }
   ],
   "source": [
    "# Calculate evaluation metrics\n",
    "mse = mean_squared_error(y_test, y_pred)\n",
    "rmse = np.sqrt(mse)\n",
    "mae = mean_absolute_error(y_test, y_pred)\n",
    "r2 = r2_score(y_test, y_pred)\n",
    "\n",
    "# Print the evaluation metrics\n",
    "print(\"Mean Squared Error : {:.2f}\".format(mse))\n",
    "print(\"Root Mean Squared Error : {:.2f}\".format(rmse))\n",
    "print(\"Mean Absolute Error : {:.2f}\".format(mae))\n",
    "print(\"R-squared : {:.2f}\".format(r2))"
   ]
  },
  {
   "cell_type": "code",
   "execution_count": null,
   "id": "6dbe2ea9",
   "metadata": {},
   "outputs": [],
   "source": []
  },
  {
   "cell_type": "code",
   "execution_count": null,
   "id": "7f37f21b",
   "metadata": {},
   "outputs": [],
   "source": []
  },
  {
   "cell_type": "code",
   "execution_count": null,
   "id": "14adf121",
   "metadata": {},
   "outputs": [],
   "source": []
  }
 ],
 "metadata": {
  "kernelspec": {
   "display_name": "Python 3 (ipykernel)",
   "language": "python",
   "name": "python3"
  },
  "language_info": {
   "codemirror_mode": {
    "name": "ipython",
    "version": 3
   },
   "file_extension": ".py",
   "mimetype": "text/x-python",
   "name": "python",
   "nbconvert_exporter": "python",
   "pygments_lexer": "ipython3",
   "version": "3.10.7"
  }
 },
 "nbformat": 4,
 "nbformat_minor": 5
}
