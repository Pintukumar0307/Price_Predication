{
 "cells": [
  {
   "cell_type": "code",
   "execution_count": 1,
   "id": "79c80ed6",
   "metadata": {},
   "outputs": [],
   "source": [
    "import pandas as pd\n",
    "from sklearn.preprocessing import LabelEncoder, StandardScaler\n",
    "from sklearn.model_selection import train_test_split, GridSearchCV\n",
    "from sklearn.ensemble import RandomForestRegressor\n",
    "from sklearn.metrics import mean_squared_error, mean_absolute_error, r2_score\n",
    "from sklearn.impute import SimpleImputer\n",
    "import numpy as np\n"
   ]
  },
  {
   "cell_type": "code",
   "execution_count": 2,
   "id": "25906151",
   "metadata": {},
   "outputs": [],
   "source": [
    "# Load the dataset into a Pandas dataframe\n",
    "df = pd.read_csv('./price_predication.csv')\n"
   ]
  },
  {
   "cell_type": "code",
   "execution_count": 3,
   "id": "f1838128",
   "metadata": {},
   "outputs": [],
   "source": [
    "# Encode categorical features\n",
    "le_district = LabelEncoder()\n",
    "df['District'] = le_district.fit_transform(df['District'])\n",
    "le_crop = LabelEncoder()\n",
    "df['Crop'] = le_crop.fit_transform(df['Crop'])\n"
   ]
  },
  {
   "cell_type": "code",
   "execution_count": 4,
   "id": "515edc89",
   "metadata": {},
   "outputs": [],
   "source": [
    "df['Price Date'] = pd.to_datetime(df['Price Date'], format='%b-%Y')\n",
    "\n",
    "\n",
    "# Extract month and year from 'Price Date' column\n",
    "df['Month'] = df['Price Date'].dt.month\n",
    "df['Year'] = df['Price Date'].dt.year\n",
    "\n",
    "\n",
    "\n",
    "# Drop the 'Price Date' column\n",
    "df = df.drop('Price Date', axis=1)\n",
    "\n",
    "# Split the dataset into training and testing sets\n",
    "X_train, X_test, y_train, y_test = train_test_split(df[['District', 'Crop', 'Month', 'Year']], df['Crop Price (Rs per quintal)'], test_size=0.2, random_state=42)\n"
   ]
  },
  {
   "cell_type": "code",
   "execution_count": 5,
   "id": "017d2a09",
   "metadata": {},
   "outputs": [],
   "source": [
    "imputer = SimpleImputer()\n",
    "X_train = imputer.fit_transform(X_train)\n",
    "X_test = imputer.transform(X_test)"
   ]
  },
  {
   "cell_type": "code",
   "execution_count": 6,
   "id": "ebce71dd",
   "metadata": {},
   "outputs": [],
   "source": [
    "scaler = StandardScaler()\n",
    "X_train = scaler.fit_transform(X_train)\n",
    "X_test = scaler.transform(X_test)"
   ]
  },
  {
   "cell_type": "code",
   "execution_count": 7,
   "id": "45130a81",
   "metadata": {},
   "outputs": [],
   "source": [
    "rf = RandomForestRegressor(n_estimators=400, max_depth=12, random_state=42)\n",
    "rf.fit(X_train, y_train)\n",
    "\n",
    "y_pred = rf.predict(X_test)"
   ]
  },
  {
   "cell_type": "code",
   "execution_count": 8,
   "id": "95211b14",
   "metadata": {},
   "outputs": [
    {
     "name": "stdout",
     "output_type": "stream",
     "text": [
      "Mean Squared Error : 3719.39\n",
      "Root Mean Squared Error : 60.99\n",
      "Mean Absolute Error : 51.69\n",
      "R-squared : 1.00\n"
     ]
    }
   ],
   "source": [
    "# Calculate  metrics\n",
    "mse = mean_squared_error(y_test, y_pred)\n",
    "rmse = np.sqrt(mse)\n",
    "mae = mean_absolute_error(y_test, y_pred)\n",
    "r2 = r2_score(y_test, y_pred)\n",
    "\n",
    "print(\"Mean Squared Error : {:.2f}\".format(mse))\n",
    "print(\"Root Mean Squared Error : {:.2f}\".format(rmse))\n",
    "print(\"Mean Absolute Error : {:.2f}\".format(mae))\n",
    "print(\"R-squared : {:.2f}\".format(r2)) "
   ]
  },
  {
   "cell_type": "code",
   "execution_count": null,
   "id": "722ee1f7",
   "metadata": {},
   "outputs": [],
   "source": []
  },
  {
   "cell_type": "code",
   "execution_count": null,
   "id": "a32aba9a",
   "metadata": {},
   "outputs": [],
   "source": []
  },
  {
   "cell_type": "code",
   "execution_count": null,
   "id": "cab7496e",
   "metadata": {},
   "outputs": [],
   "source": []
  },
  {
   "cell_type": "code",
   "execution_count": null,
   "id": "9a4b216a",
   "metadata": {},
   "outputs": [],
   "source": [
    "import joblib\n",
    "# Save the model\n",
    "model_filename = './Save_Model_Price/random_forest_model.pkl'\n",
    "joblib.dump(rf, model_filename)\n",
    "print(f\"Model saved as {model_filename}\")"
   ]
  },
  {
   "cell_type": "code",
   "execution_count": null,
   "id": "4304bd0a",
   "metadata": {},
   "outputs": [],
   "source": []
  },
  {
   "cell_type": "code",
   "execution_count": 9,
   "id": "12e7d06a",
   "metadata": {},
   "outputs": [],
   "source": [
    "district_name = 'Coimbatore'\n",
    "crop_name = 'Banana'\n",
    "today = pd.Timestamp.today()"
   ]
  },
  {
   "cell_type": "code",
   "execution_count": 10,
   "id": "e29896d7",
   "metadata": {},
   "outputs": [],
   "source": [
    "next_six_months = pd.date_range(today, periods=12, freq='MS').strftime(\"%m-%Y\").tolist()\n",
    "\n",
    "next_six_months_df = pd.DataFrame({'District': [le_district.transform([district_name])[0]]*12,\n",
    "                                   'Crop': [le_crop.transform([crop_name])[0]]*12,\n",
    "                                   'Month': [int(month.split('-')[0]) for month in next_six_months],\n",
    "                                   'Year': [int(month.split('-')[1]) for month in next_six_months]})\n"
   ]
  },
  {
   "cell_type": "code",
   "execution_count": 11,
   "id": "6f8d1b42",
   "metadata": {},
   "outputs": [
    {
     "name": "stdout",
     "output_type": "stream",
     "text": [
      "Look Here --\n",
      "\n",
      " [1848.61795103 1844.87699271 1820.93632212 1814.17673009 1841.11625962\n",
      " 1839.99108071 1845.99912283 1843.84305199 1833.18883485 1837.67613213\n",
      " 1843.89228432 1849.33510743]\n"
     ]
    }
   ],
   "source": [
    "next_six_months_df = imputer.transform(next_six_months_df)\n",
    "next_six_months_df = scaler.transform(next_six_months_df)\n",
    "next_six_months_predictions = rf.predict(next_six_months_df)\n",
    "print (\"Look Here --\\n\\n\" , next_six_months_predictions)"
   ]
  },
  {
   "cell_type": "code",
   "execution_count": 12,
   "id": "33684c82",
   "metadata": {},
   "outputs": [
    {
     "name": "stdout",
     "output_type": "stream",
     "text": [
      "   Month-Year  Predicted Crop Price (Rs per quintal)\n",
      "0     11-2023                                   1848\n",
      "1     12-2023                                   1844\n",
      "2     01-2024                                   1820\n",
      "3     02-2024                                   1814\n",
      "4     03-2024                                   1841\n",
      "5     04-2024                                   1839\n",
      "6     05-2024                                   1845\n",
      "7     06-2024                                   1843\n",
      "8     07-2024                                   1833\n",
      "9     08-2024                                   1837\n",
      "10    09-2024                                   1843\n",
      "11    10-2024                                   1849\n"
     ]
    }
   ],
   "source": [
    "next_six_months_table = pd.DataFrame({'Month-Year': next_six_months,\n",
    "                                      'Predicted Crop Price (Rs per quintal)': next_six_months_predictions.astype(int)})\n",
    "\n",
    "print(next_six_months_table)"
   ]
  },
  {
   "cell_type": "code",
   "execution_count": null,
   "id": "c16a74ce",
   "metadata": {},
   "outputs": [],
   "source": []
  },
  {
   "cell_type": "code",
   "execution_count": null,
   "id": "eb18d76c",
   "metadata": {},
   "outputs": [],
   "source": []
  }
 ],
 "metadata": {
  "kernelspec": {
   "display_name": "Python 3 (ipykernel)",
   "language": "python",
   "name": "python3"
  },
  "language_info": {
   "codemirror_mode": {
    "name": "ipython",
    "version": 3
   },
   "file_extension": ".py",
   "mimetype": "text/x-python",
   "name": "python",
   "nbconvert_exporter": "python",
   "pygments_lexer": "ipython3",
   "version": "3.10.7"
  }
 },
 "nbformat": 4,
 "nbformat_minor": 5
}
